{
 "cells": [
  {
   "cell_type": "code",
   "execution_count": null,
   "metadata": {},
   "outputs": [],
   "source": [
    "import pandas as pd\n",
    "import xmltodict\n",
    "import os\n",
    "import cv2\n",
    "from datetime import datetime\n",
    "import json"
   ]
  },
  {
   "cell_type": "markdown",
   "metadata": {},
   "source": [
    "## File parsing (image and labels)"
   ]
  },
  {
   "cell_type": "code",
   "execution_count": null,
   "metadata": {},
   "outputs": [],
   "source": [
    "dataset_path = '../data/CommodityImg_Dataset_20200831_bottle_splitted/images/'\n",
    "output_path = '../data/CommodityImg_Dataset_20200831_bottle_splitted/images_yolo/'\n",
    "if not os.path.exists(output_path) :\n",
    "    os.mkdir(output_path)"
   ]
  },
  {
   "cell_type": "markdown",
   "metadata": {},
   "source": [
    "Scan XML files"
   ]
  },
  {
   "cell_type": "code",
   "execution_count": null,
   "metadata": {},
   "outputs": [],
   "source": [
    "def parse_one_voc_object(obj) :\n",
    "    obj_name = obj['name']\n",
    "    obj_bbox_center = ((float(obj['bndbox']['xmin'])+float(obj['bndbox']['xmax']))*0.5,\n",
    "                       (float(obj['bndbox']['ymin'])+float(obj['bndbox']['ymax']))*0.5)\n",
    "    obj_bbox_size = (float(obj['bndbox']['xmax'])-float(obj['bndbox']['xmin']),\n",
    "                     float(obj['bndbox']['ymax'])-float(obj['bndbox']['ymin']))\n",
    "    return obj_name, obj_bbox_center, obj_bbox_size"
   ]
  },
  {
   "cell_type": "code",
   "execution_count": null,
   "metadata": {},
   "outputs": [],
   "source": [
    "dict_classes = {}\n",
    "\n",
    "name_token_desc = ['obj_name','side_name','obj_idx','unknown1','unknown2','unknown3','unknown4','unknown5']\n",
    "\n",
    "# scan all files in path\n",
    "for i, filename in enumerate(os.listdir(dataset_path)) :\n",
    "    # get only XML files\n",
    "    if filename[-4:].lower()=='.xml' :\n",
    "        print(filename)\n",
    "        # open VOC annotation file\n",
    "        with open(os.path.join(dataset_path, filename), 'r') as f :\n",
    "            xml_string = f.read()\n",
    "            f.close()\n",
    "\n",
    "            # parse xml file (extract annotations)\n",
    "            voc_object = xmltodict.parse(xml_string, dict_constructor=dict)['annotation']\n",
    "            img_size = (float(voc_object['size']['width']), float(voc_object['size']['height']))\n",
    "            voc_anno_list = voc_object['object']\n",
    "\n",
    "            bbox_list = []\n",
    "\n",
    "            # only one annotation\n",
    "            if type(voc_anno_list) == dict :\n",
    "                obj_name, obj_bbox_center, obj_bbox_size = parse_one_voc_object(voc_anno_list)\n",
    "                if obj_name not in dict_classes :\n",
    "                    dict_classes[obj_name] = len(dict_classes)\n",
    "                obj_idx = dict_classes[obj_name]\n",
    "                obj_bbox = (obj_bbox_center[0]/img_size[0], obj_bbox_center[1]/img_size[1],\n",
    "                            obj_bbox_size[0]/img_size[0], obj_bbox_size[1]/img_size[1])\n",
    "                bbox_list.append({'obj_name':obj_name, 'obj_idx':obj_idx, 'obj_bbox':obj_bbox})\n",
    "            else :\n",
    "                for one_bbox in voc_anno_list :\n",
    "                    obj_name, obj_bbox_center, obj_bbox_size = parse_one_voc_object(one_bbox)\n",
    "                    if obj_name not in dict_classes :\n",
    "                        dict_classes[obj_name] = len(dict_classes)\n",
    "                    obj_idx = dict_classes[obj_name]\n",
    "                    obj_bbox = (obj_bbox_center[0]/img_size[0], obj_bbox_center[1]/img_size[1],\n",
    "                                obj_bbox_size[0]/img_size[0], obj_bbox_size[1]/img_size[1])\n",
    "                    bbox_list.append({'obj_name':obj_name, 'obj_idx':obj_idx, 'obj_bbox':obj_bbox})\n",
    "\n",
    "            # write to yolo file\n",
    "            with open(os.path.join(output_path, filename[:-4]+'.txt'), 'w') as fo :\n",
    "                for row in bbox_list :\n",
    "                    fo.write(str(row['obj_idx'])+' '+str(row['obj_bbox'][0])+' '+str(row['obj_bbox'][1])+' '+str(row['obj_bbox'][2])+' '+str(row['obj_bbox'][3])+'\\n')\n",
    "                fo.close()\n",
    "\n",
    "# write classes file\n",
    "sorted_classes_list = sorted(dict_classes.items(), key=lambda x:x[1])\n",
    "with open(os.path.join(output_path, 'classes.txt'), 'w') as fo :\n",
    "    for row in sorted_classes_list :\n",
    "        fo.write(row[0]+'\\n')\n",
    "    fo.close()"
   ]
  }
 ],
 "metadata": {
  "kernelspec": {
   "display_name": "Python 3",
   "language": "python",
   "name": "python3"
  },
  "language_info": {
   "codemirror_mode": {
    "name": "ipython",
    "version": 3
   },
   "file_extension": ".py",
   "mimetype": "text/x-python",
   "name": "python",
   "nbconvert_exporter": "python",
   "pygments_lexer": "ipython3",
   "version": "3.6.8"
  }
 },
 "nbformat": 4,
 "nbformat_minor": 4
}
